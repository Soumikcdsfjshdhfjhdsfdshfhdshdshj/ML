{
 "cells": [
  {
   "cell_type": "markdown",
   "id": "ed1342da-fe39-429d-a194-985cf641684b",
   "metadata": {},
   "source": [
    "## Linear Regression"
   ]
  },
  {
   "cell_type": "code",
   "execution_count": 1,
   "id": "638f7b3e-20d1-473b-b178-847bbecc72fb",
   "metadata": {},
   "outputs": [],
   "source": [
    "import numpy as np\n",
    "import pandas as pd\n",
    "import matplotlib.pyplot as plt \n",
    "import seaborn as sns"
   ]
  },
  {
   "cell_type": "code",
   "execution_count": 11,
   "id": "7ae81ee9-ba0a-4f36-8864-308f70832527",
   "metadata": {},
   "outputs": [
    {
     "name": "stdout",
     "output_type": "stream",
     "text": [
      "     Study Hours  Exam Score\n",
      "0           8.36       46.58\n",
      "1           3.43       19.47\n",
      "2           2.72       11.35\n",
      "3           6.62       38.61\n",
      "4           8.63       44.56\n",
      "..           ...         ...\n",
      "100         6.16       29.23\n",
      "101         8.00       45.62\n",
      "102         1.27        5.28\n",
      "103         1.57        6.26\n",
      "104         3.86       30.95\n",
      "\n",
      "[105 rows x 2 columns]\n"
     ]
    }
   ],
   "source": [
    "data = pd.read_csv(\"data.csv\")\n",
    "print(data)"
   ]
  },
  {
   "cell_type": "code",
   "execution_count": 12,
   "id": "cd2a484b-7b09-4499-b4b9-7a68c91aabd9",
   "metadata": {},
   "outputs": [],
   "source": [
    "data.rename(columns={'Study Hours':'studytime','Exam Score':'score'},inplace=True)"
   ]
  },
  {
   "cell_type": "code",
   "execution_count": 13,
   "id": "5f9432f3-a441-489f-aaa3-87fe6d5173d9",
   "metadata": {},
   "outputs": [
    {
     "data": {
      "text/html": [
       "<div>\n",
       "<style scoped>\n",
       "    .dataframe tbody tr th:only-of-type {\n",
       "        vertical-align: middle;\n",
       "    }\n",
       "\n",
       "    .dataframe tbody tr th {\n",
       "        vertical-align: top;\n",
       "    }\n",
       "\n",
       "    .dataframe thead th {\n",
       "        text-align: right;\n",
       "    }\n",
       "</style>\n",
       "<table border=\"1\" class=\"dataframe\">\n",
       "  <thead>\n",
       "    <tr style=\"text-align: right;\">\n",
       "      <th></th>\n",
       "      <th>studytime</th>\n",
       "      <th>score</th>\n",
       "    </tr>\n",
       "  </thead>\n",
       "  <tbody>\n",
       "    <tr>\n",
       "      <th>0</th>\n",
       "      <td>8.36</td>\n",
       "      <td>46.58</td>\n",
       "    </tr>\n",
       "    <tr>\n",
       "      <th>1</th>\n",
       "      <td>3.43</td>\n",
       "      <td>19.47</td>\n",
       "    </tr>\n",
       "    <tr>\n",
       "      <th>2</th>\n",
       "      <td>2.72</td>\n",
       "      <td>11.35</td>\n",
       "    </tr>\n",
       "    <tr>\n",
       "      <th>3</th>\n",
       "      <td>6.62</td>\n",
       "      <td>38.61</td>\n",
       "    </tr>\n",
       "    <tr>\n",
       "      <th>4</th>\n",
       "      <td>8.63</td>\n",
       "      <td>44.56</td>\n",
       "    </tr>\n",
       "  </tbody>\n",
       "</table>\n",
       "</div>"
      ],
      "text/plain": [
       "   studytime  score\n",
       "0       8.36  46.58\n",
       "1       3.43  19.47\n",
       "2       2.72  11.35\n",
       "3       6.62  38.61\n",
       "4       8.63  44.56"
      ]
     },
     "execution_count": 13,
     "metadata": {},
     "output_type": "execute_result"
    }
   ],
   "source": [
    "data.head()"
   ]
  },
  {
   "cell_type": "markdown",
   "id": "3b3d3a00-be61-4310-b822-8d5dc3c4f129",
   "metadata": {},
   "source": [
    "#### MSE"
   ]
  },
  {
   "cell_type": "code",
   "execution_count": 34,
   "id": "d77edf5c-f971-460b-8a33-e2f812a6f2a0",
   "metadata": {},
   "outputs": [],
   "source": [
    "def loss_function(m,b,data):\n",
    "    total_error=0\n",
    "\n",
    "    for i in range(len(data)):\n",
    "        x = data.iloc[i].studytime\n",
    "        y = data.iloc[i].score\n",
    "\n",
    "        total_error+=(y-m*x-b)**2\n",
    "\n",
    "    total_error=total_error/float(len(data))\n",
    "    return total_error"
   ]
  },
  {
   "cell_type": "markdown",
   "id": "735d4a38-efb2-4e0e-bf69-d74dbd669f8f",
   "metadata": {},
   "source": [
    "#### Gradient Descent "
   ]
  },
  {
   "cell_type": "code",
   "execution_count": 35,
   "id": "2ba8acc9-c248-4125-9efe-441f12f58a0d",
   "metadata": {},
   "outputs": [],
   "source": [
    "def gradient_descent(m_now,b_now,L,data):\n",
    "    m_gradient=0\n",
    "    b_gradient=0\n",
    "    n = len(data)\n",
    "\n",
    "    for i in range(n):\n",
    "        x = data.iloc[i].studytime\n",
    "        y = data.iloc[i].score\n",
    "        m_gradient+=-(2/n)*x*(y-m_now*x-b_now)\n",
    "        b_gradient+=-(2/n)*(y-m_now*x-b_now)\n",
    "\n",
    "    m = m_now-L*m_gradient\n",
    "    b = b_now - L*b_gradient\n",
    "    return m,b"
   ]
  },
  {
   "cell_type": "code",
   "execution_count": 36,
   "id": "3a82b573-60af-4146-876f-875459198f01",
   "metadata": {},
   "outputs": [],
   "source": [
    "m =0\n",
    "b = 0\n",
    "L=0.0001\n",
    "epochs=1000"
   ]
  },
  {
   "cell_type": "code",
   "execution_count": 37,
   "id": "b1a5a5ac-3fed-4c14-9e0a-cfe5657d19ff",
   "metadata": {},
   "outputs": [
    {
     "name": "stdout",
     "output_type": "stream",
     "text": [
      "4.980308973343043 0.644564792436042\n"
     ]
    }
   ],
   "source": [
    "for i in range(epochs):\n",
    "    m,b = gradient_descent(m,b,L,data)\n",
    "print(m,b)"
   ]
  },
  {
   "cell_type": "code",
   "execution_count": 39,
   "id": "1fad1666-ee7d-4071-af3f-b1882794a5d9",
   "metadata": {},
   "outputs": [
    {
     "data": {
      "text/plain": [
       "27.37401829723807"
      ]
     },
     "execution_count": 39,
     "metadata": {},
     "output_type": "execute_result"
    }
   ],
   "source": [
    "loss_function(m,b,data)"
   ]
  },
  {
   "cell_type": "code",
   "execution_count": 40,
   "id": "537d62df-2b58-45ea-b2ca-e393c2acfafc",
   "metadata": {},
   "outputs": [
    {
     "data": {
      "text/plain": [
       "11.94"
      ]
     },
     "execution_count": 40,
     "metadata": {},
     "output_type": "execute_result"
    }
   ],
   "source": [
    "data['studytime'].max()"
   ]
  },
  {
   "cell_type": "code",
   "execution_count": 41,
   "id": "55480140-633c-4077-9d65-9f4c1c1b0ced",
   "metadata": {},
   "outputs": [
    {
     "data": {
      "text/plain": [
       "0.19"
      ]
     },
     "execution_count": 41,
     "metadata": {},
     "output_type": "execute_result"
    }
   ],
   "source": [
    "data['studytime'].min()"
   ]
  },
  {
   "cell_type": "code",
   "execution_count": 45,
   "id": "bb2e7aba-2ef8-4c81-bbed-c92b65a1b198",
   "metadata": {},
   "outputs": [
    {
     "data": {
      "text/plain": [
       "[<matplotlib.lines.Line2D at 0x1a42e5b7ce0>]"
      ]
     },
     "execution_count": 45,
     "metadata": {},
     "output_type": "execute_result"
    },
    {
     "data": {
      "image/png": "[encoded data removed]",
      "text/plain": [
       "<Figure size 640x480 with 1 Axes>"
      ]
     },
     "metadata": {},
     "output_type": "display_data"
    }
   ],
   "source": [
    "sns.scatterplot(x=\"studytime\",y=\"score\",data=data)\n",
    "plt.plot(list(range(0,15)),[m*x+b for x in range(0,15)],color='red')"
   ]
  },
  {
   "cell_type": "code",
   "execution_count": null,
   "id": "21422e2a-1ff4-4224-8f52-047665428eea",
   "metadata": {},
   "outputs": [],
   "source": []
  }
 ],
 "metadata": {
  "kernelspec": {
   "display_name": "Python 3 (ipykernel)",
   "language": "python",
   "name": "python3"
  },
  "language_info": {
   "codemirror_mode": {
    "name": "ipython",
    "version": 3
   },
   "file_extension": ".py",
   "mimetype": "text/x-python",
   "name": "python",
   "nbconvert_exporter": "python",
   "pygments_lexer": "ipython3",
   "version": "3.12.4"
  }
 },
 "nbformat": 4,
 "nbformat_minor": 5
}
