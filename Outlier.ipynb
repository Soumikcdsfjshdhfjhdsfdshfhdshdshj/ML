{
 "cells": [
  {
   "cell_type": "markdown",
   "id": "2a1ba8e4-9fd7-4e72-8338-8e65dff1f2bc",
   "metadata": {},
   "source": [
    "#### Oulier"
   ]
  },
  {
   "cell_type": "code",
   "execution_count": 2,
   "id": "0ff87a4c-79c7-4ce2-8d40-300d0a05196d",
   "metadata": {},
   "outputs": [],
   "source": [
    "import numpy as np\n",
    "import pandas as pd\n",
    "import matplotlib.pyplot as plt"
   ]
  },
  {
   "cell_type": "code",
   "execution_count": 24,
   "id": "d4931fc6-a6b1-4487-afa8-1990478f7937",
   "metadata": {},
   "outputs": [],
   "source": [
    "dataset = [10,11,12,14,13,15,17,19,206,18,14,13,209,20,22,23,24,21,11,12,13,14,15,16,17,18,19,11,10,1,3,12,12,12,22,23,25,13,16,19,12,16,13]"
   ]
  },
  {
   "cell_type": "markdown",
   "id": "351489ba-a53d-49c4-80c0-c6dd360ed73a",
   "metadata": {},
   "source": [
    "#### Z score\n",
    "Z = X-u/sigma"
   ]
  },
  {
   "cell_type": "code",
   "execution_count": 25,
   "id": "f2d0b0b3-4f71-4df7-a056-082e4e37ff17",
   "metadata": {},
   "outputs": [],
   "source": [
    "outliers = []\n",
    "def detect_outliers(data):\n",
    "    threshold =3\n",
    "    mean=np.mean(dataset)\n",
    "    std = np.std(dataset)\n",
    "\n",
    "    for i in data:\n",
    "        z_score=(i-mean)/std\n",
    "        if np.abs(z_score)>threshold:\n",
    "            outliers.append(i)\n",
    "    return outliers"
   ]
  },
  {
   "cell_type": "code",
   "execution_count": 26,
   "id": "9c17f60c-d0e4-405d-b214-1c661b712bfb",
   "metadata": {},
   "outputs": [],
   "source": [
    "outlier_pt=detect_outliers(dataset)"
   ]
  },
  {
   "cell_type": "code",
   "execution_count": 27,
   "id": "c6f759ae-1b2b-41b1-9f65-4a60e71ee487",
   "metadata": {},
   "outputs": [
    {
     "data": {
      "text/plain": [
       "[206, 209]"
      ]
     },
     "execution_count": 27,
     "metadata": {},
     "output_type": "execute_result"
    }
   ],
   "source": [
    "outlier_pt"
   ]
  },
  {
   "cell_type": "code",
   "execution_count": null,
   "id": "76891f61-82af-430a-b718-abab2ae3798e",
   "metadata": {},
   "outputs": [],
   "source": []
  },
  {
   "cell_type": "markdown",
   "id": "bf91f53f-dc63-42d4-b8e0-69c53790fe83",
   "metadata": {},
   "source": [
    "#### Interquantile Range"
   ]
  },
  {
   "cell_type": "markdown",
   "id": "b526226f-1424-412f-9055-e46af417483b",
   "metadata": {},
   "source": [
    "75%-25% values in a dataset"
   ]
  },
  {
   "cell_type": "markdown",
   "id": "58bec9de-996d-48f1-a26d-fe9ba871a329",
   "metadata": {},
   "source": [
    "#### Steps"
   ]
  },
  {
   "cell_type": "markdown",
   "id": "52b0330e-2515-4779-8166-c85e0fdb42b3",
   "metadata": {},
   "source": [
    "1. Arrange the data in increasing order\n",
    "2. calculate 1st and 3rd quartile\n",
    "3. Find IQR(3rd-1st)\n",
    "4. Find the lower bound 1st*1.5\n",
    "5. Find the upper bound 3rd*1.5\n",
    "Anything outside upper and lower quartile are outliers "
   ]
  },
  {
   "cell_type": "code",
   "execution_count": 28,
   "id": "2a14e63e-2119-40a5-98b6-38a6bc387415",
   "metadata": {},
   "outputs": [
    {
     "data": {
      "text/plain": [
       "[1,\n",
       " 3,\n",
       " 10,\n",
       " 10,\n",
       " 11,\n",
       " 11,\n",
       " 11,\n",
       " 12,\n",
       " 12,\n",
       " 12,\n",
       " 12,\n",
       " 12,\n",
       " 12,\n",
       " 13,\n",
       " 13,\n",
       " 13,\n",
       " 13,\n",
       " 13,\n",
       " 14,\n",
       " 14,\n",
       " 14,\n",
       " 15,\n",
       " 15,\n",
       " 16,\n",
       " 16,\n",
       " 16,\n",
       " 17,\n",
       " 17,\n",
       " 18,\n",
       " 18,\n",
       " 19,\n",
       " 19,\n",
       " 19,\n",
       " 20,\n",
       " 21,\n",
       " 22,\n",
       " 22,\n",
       " 23,\n",
       " 23,\n",
       " 24,\n",
       " 25,\n",
       " 206,\n",
       " 209]"
      ]
     },
     "execution_count": 28,
     "metadata": {},
     "output_type": "execute_result"
    }
   ],
   "source": [
    "sorted(dataset)"
   ]
  },
  {
   "cell_type": "code",
   "execution_count": 29,
   "id": "87a48ee8-6b81-4651-9b0e-86e4974b1847",
   "metadata": {},
   "outputs": [],
   "source": [
    "quartile1, quartile3 = np.percentile(dataset,[25,75])"
   ]
  },
  {
   "cell_type": "code",
   "execution_count": 30,
   "id": "69648a88-610c-48f8-a70f-381c3db982b3",
   "metadata": {},
   "outputs": [
    {
     "name": "stdout",
     "output_type": "stream",
     "text": [
      "12.0 19.0\n"
     ]
    }
   ],
   "source": [
    "print(quartile1,quartile3)"
   ]
  },
  {
   "cell_type": "code",
   "execution_count": 31,
   "id": "f9421b29-ba97-4b40-b7c3-8757a4bc672d",
   "metadata": {},
   "outputs": [
    {
     "name": "stdout",
     "output_type": "stream",
     "text": [
      "7.0\n"
     ]
    }
   ],
   "source": [
    "IQR=quartile3-quartile1\n",
    "print(IQR)"
   ]
  },
  {
   "cell_type": "code",
   "execution_count": 32,
   "id": "dbaaffd7-241a-491c-8ace-7727f4139794",
   "metadata": {},
   "outputs": [],
   "source": [
    "lower_val=quartile1-(1.5*IQR)\n",
    "upper_val=quartile3+(1.5*IQR)"
   ]
  },
  {
   "cell_type": "code",
   "execution_count": 37,
   "id": "86e62c5f-8e17-4587-ad6e-6c65336b3b59",
   "metadata": {},
   "outputs": [],
   "source": [
    "outliers=[]\n",
    "def det_outliers(data):\n",
    "    sorted(data)\n",
    "    quartile1, quartile3 = np.percentile(dataset,[25,75])\n",
    "    IQR=quartile3-quartile1\n",
    "    lower_val=quartile1-(1.5*IQR)\n",
    "    upper_val=quartile3+(1.5*IQR)\n",
    "    for i in data:\n",
    "        if i<lower_val or i>upper_val:\n",
    "            outliers.append(i)\n",
    "        \n",
    "    return outliers\n"
   ]
  },
  {
   "cell_type": "code",
   "execution_count": 38,
   "id": "1aa6f4f6-7ccb-4d9a-bb6e-16ea21a53802",
   "metadata": {},
   "outputs": [
    {
     "name": "stdout",
     "output_type": "stream",
     "text": [
      "[206, 209, 1]\n"
     ]
    }
   ],
   "source": [
    "outliers_data = det_outliers(dataset)\n",
    "print(outliers_data)"
   ]
  },
  {
   "cell_type": "code",
   "execution_count": 39,
   "id": "805bafee-fd2a-461a-a572-b738632e9fde",
   "metadata": {},
   "outputs": [
    {
     "name": "stdout",
     "output_type": "stream",
     "text": [
      "1.5 29.5\n"
     ]
    }
   ],
   "source": [
    "print(lower_val,upper_val)"
   ]
  },
  {
   "cell_type": "code",
   "execution_count": null,
   "id": "e36dfcc2-c431-42db-8622-f18889b0ab01",
   "metadata": {},
   "outputs": [],
   "source": []
  }
 ],
 "metadata": {
  "kernelspec": {
   "display_name": "Python 3 (ipykernel)",
   "language": "python",
   "name": "python3"
  },
  "language_info": {
   "codemirror_mode": {
    "name": "ipython",
    "version": 3
   },
   "file_extension": ".py",
   "mimetype": "text/x-python",
   "name": "python",
   "nbconvert_exporter": "python",
   "pygments_lexer": "ipython3",
   "version": "3.12.4"
  }
 },
 "nbformat": 4,
 "nbformat_minor": 5
}
