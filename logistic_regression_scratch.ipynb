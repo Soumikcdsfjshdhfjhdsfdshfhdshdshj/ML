{
 "cells": [
  {
   "cell_type": "code",
   "execution_count": 2,
   "id": "75384fd0-5a37-408b-957b-a04d23594565",
   "metadata": {},
   "outputs": [],
   "source": [
    "import numpy as np \n",
    "import pandas as pd \n",
    "import matplotlib.pyplot as plt\n",
    "import seaborn as sns\n",
    "\n",
    "\n",
    "def sigmoid(X):\n",
    "     return 1/(1+np.exp(-X))"
   ]
  },
  {
   "cell_type": "code",
   "execution_count": 3,
   "id": "6e66f20b-f8b8-49f4-85f5-eb04234449a1",
   "metadata": {},
   "outputs": [
    {
     "ename": "IndentationError",
     "evalue": "unexpected indent (942348960.py, line 26)",
     "output_type": "error",
     "traceback": [
      "  \u001b[36mCell\u001b[39m\u001b[36m \u001b[39m\u001b[32mIn[3]\u001b[39m\u001b[32m, line 26\u001b[39m\n\u001b[31m    \u001b[39m\u001b[31my_pred = sigmoid(linear_pred)\u001b[39m\n    ^\n\u001b[31mIndentationError\u001b[39m\u001b[31m:\u001b[39m unexpected indent\n"
     ]
    }
   ],
   "source": [
    "class LogisticRegression():\n",
    "\n",
    "    def _init_(self,L=0.001,n_iter=1000):\n",
    "        self.L = L\n",
    "        self.weights = None\n",
    "        self.bias = None\n",
    "    def fit(self,X,y):\n",
    "        n_samples,n_features = X.shape\n",
    "        self.weights = np.zeros(self.featurs)\n",
    "        self.bias = 0\n",
    "\n",
    "        for _ in range(self.n_iters):\n",
    "            linear_pred = np.dot(X,sek=lf.weights) + self.bias\n",
    "            predictions = sigmoid(linear_pred)\n",
    "\n",
    "            dw = (1/n_samples)*np.dot(X.T ,(predictions - y))\n",
    "            db  = (1/n_samples)*np.sum(predictions - y)\n",
    "\n",
    "            self.weights = self.weights - self.L*dw\n",
    "            self.bias = self.bias - self.L*db\n",
    "            \n",
    "\n",
    "\n",
    "    def predict(self,X):\n",
    "         linear_pred = np.dot(X,sek=lf.weights) + self.bias\n",
    "          y_pred = sigmoid(linear_pred)\n",
    "          class_pred = [0 if y<=0.5 else 1 for y in y_pred]\n",
    "         return class_pred\n"
   ]
  },
  {
   "cell_type": "code",
   "execution_count": null,
   "id": "72d5b802-d6ba-4c33-b739-fb36e001c070",
   "metadata": {},
   "outputs": [],
   "source": []
  }
 ],
 "metadata": {
  "kernelspec": {
   "display_name": "Python 3 (ipykernel)",
   "language": "python",
   "name": "python3"
  },
  "language_info": {
   "codemirror_mode": {
    "name": "ipython",
    "version": 3
   },
   "file_extension": ".py",
   "mimetype": "text/x-python",
   "name": "python",
   "nbconvert_exporter": "python",
   "pygments_lexer": "ipython3",
   "version": "3.12.4"
  }
 },
 "nbformat": 4,
 "nbformat_minor": 5
}
