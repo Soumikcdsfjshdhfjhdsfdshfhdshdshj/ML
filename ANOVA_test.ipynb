{
 "cells": [
  {
   "cell_type": "markdown",
   "id": "8e136ca2-534d-48f5-a5a3-a51b4d8d2653",
   "metadata": {},
   "source": [
    "## CHI Square Test"
   ]
  },
  {
   "cell_type": "code",
   "execution_count": 2,
   "id": "b4a5b9f3-43b4-4643-a260-0d3761731100",
   "metadata": {},
   "outputs": [],
   "source": [
    "import scipy.stats as stats "
   ]
  },
  {
   "cell_type": "code",
   "execution_count": 3,
   "id": "34cdb2be-7438-4f81-b162-19ddd540c5a9",
   "metadata": {},
   "outputs": [],
   "source": [
    "import seaborn as sns\n",
    "import pandas as pd\n",
    "import numpy as np"
   ]
  },
  {
   "cell_type": "code",
   "execution_count": 4,
   "id": "fee2f217-abd9-4e77-9539-3f39d0b04d54",
   "metadata": {},
   "outputs": [],
   "source": [
    "dataset = sns.load_dataset('tips')"
   ]
  },
  {
   "cell_type": "code",
   "execution_count": 5,
   "id": "68ee9186-9557-400d-b8a1-caf10ac4d364",
   "metadata": {},
   "outputs": [
    {
     "data": {
      "text/html": [
       "<div>\n",
       "<style scoped>\n",
       "    .dataframe tbody tr th:only-of-type {\n",
       "        vertical-align: middle;\n",
       "    }\n",
       "\n",
       "    .dataframe tbody tr th {\n",
       "        vertical-align: top;\n",
       "    }\n",
       "\n",
       "    .dataframe thead th {\n",
       "        text-align: right;\n",
       "    }\n",
       "</style>\n",
       "<table border=\"1\" class=\"dataframe\">\n",
       "  <thead>\n",
       "    <tr style=\"text-align: right;\">\n",
       "      <th></th>\n",
       "      <th>total_bill</th>\n",
       "      <th>tip</th>\n",
       "      <th>sex</th>\n",
       "      <th>smoker</th>\n",
       "      <th>day</th>\n",
       "      <th>time</th>\n",
       "      <th>size</th>\n",
       "    </tr>\n",
       "  </thead>\n",
       "  <tbody>\n",
       "    <tr>\n",
       "      <th>0</th>\n",
       "      <td>16.99</td>\n",
       "      <td>1.01</td>\n",
       "      <td>Female</td>\n",
       "      <td>No</td>\n",
       "      <td>Sun</td>\n",
       "      <td>Dinner</td>\n",
       "      <td>2</td>\n",
       "    </tr>\n",
       "    <tr>\n",
       "      <th>1</th>\n",
       "      <td>10.34</td>\n",
       "      <td>1.66</td>\n",
       "      <td>Male</td>\n",
       "      <td>No</td>\n",
       "      <td>Sun</td>\n",
       "      <td>Dinner</td>\n",
       "      <td>3</td>\n",
       "    </tr>\n",
       "    <tr>\n",
       "      <th>2</th>\n",
       "      <td>21.01</td>\n",
       "      <td>3.50</td>\n",
       "      <td>Male</td>\n",
       "      <td>No</td>\n",
       "      <td>Sun</td>\n",
       "      <td>Dinner</td>\n",
       "      <td>3</td>\n",
       "    </tr>\n",
       "    <tr>\n",
       "      <th>3</th>\n",
       "      <td>23.68</td>\n",
       "      <td>3.31</td>\n",
       "      <td>Male</td>\n",
       "      <td>No</td>\n",
       "      <td>Sun</td>\n",
       "      <td>Dinner</td>\n",
       "      <td>2</td>\n",
       "    </tr>\n",
       "    <tr>\n",
       "      <th>4</th>\n",
       "      <td>24.59</td>\n",
       "      <td>3.61</td>\n",
       "      <td>Female</td>\n",
       "      <td>No</td>\n",
       "      <td>Sun</td>\n",
       "      <td>Dinner</td>\n",
       "      <td>4</td>\n",
       "    </tr>\n",
       "  </tbody>\n",
       "</table>\n",
       "</div>"
      ],
      "text/plain": [
       "   total_bill   tip     sex smoker  day    time  size\n",
       "0       16.99  1.01  Female     No  Sun  Dinner     2\n",
       "1       10.34  1.66    Male     No  Sun  Dinner     3\n",
       "2       21.01  3.50    Male     No  Sun  Dinner     3\n",
       "3       23.68  3.31    Male     No  Sun  Dinner     2\n",
       "4       24.59  3.61  Female     No  Sun  Dinner     4"
      ]
     },
     "execution_count": 5,
     "metadata": {},
     "output_type": "execute_result"
    }
   ],
   "source": [
    "dataset.head()"
   ]
  },
  {
   "cell_type": "code",
   "execution_count": 7,
   "id": "cb6eb05a-16f3-4447-8f9f-453672168a82",
   "metadata": {},
   "outputs": [
    {
     "data": {
      "text/html": [
       "<div>\n",
       "<style scoped>\n",
       "    .dataframe tbody tr th:only-of-type {\n",
       "        vertical-align: middle;\n",
       "    }\n",
       "\n",
       "    .dataframe tbody tr th {\n",
       "        vertical-align: top;\n",
       "    }\n",
       "\n",
       "    .dataframe thead th {\n",
       "        text-align: right;\n",
       "    }\n",
       "</style>\n",
       "<table border=\"1\" class=\"dataframe\">\n",
       "  <thead>\n",
       "    <tr style=\"text-align: right;\">\n",
       "      <th>smoker</th>\n",
       "      <th>Yes</th>\n",
       "      <th>No</th>\n",
       "    </tr>\n",
       "    <tr>\n",
       "      <th>sex</th>\n",
       "      <th></th>\n",
       "      <th></th>\n",
       "    </tr>\n",
       "  </thead>\n",
       "  <tbody>\n",
       "    <tr>\n",
       "      <th>Male</th>\n",
       "      <td>60</td>\n",
       "      <td>97</td>\n",
       "    </tr>\n",
       "    <tr>\n",
       "      <th>Female</th>\n",
       "      <td>33</td>\n",
       "      <td>54</td>\n",
       "    </tr>\n",
       "  </tbody>\n",
       "</table>\n",
       "</div>"
      ],
      "text/plain": [
       "smoker  Yes  No\n",
       "sex            \n",
       "Male     60  97\n",
       "Female   33  54"
      ]
     },
     "execution_count": 7,
     "metadata": {},
     "output_type": "execute_result"
    }
   ],
   "source": [
    "dataset_table=pd.crosstab(dataset['sex'],dataset['smoker'])\n",
    "dataset_table"
   ]
  },
  {
   "cell_type": "code",
   "execution_count": 8,
   "id": "2834c85f-0dd9-4322-8eee-70788ef96dca",
   "metadata": {},
   "outputs": [
    {
     "data": {
      "text/plain": [
       "array([[60, 97],\n",
       "       [33, 54]], dtype=int64)"
      ]
     },
     "execution_count": 8,
     "metadata": {},
     "output_type": "execute_result"
    }
   ],
   "source": [
    "dataset_table.values"
   ]
  },
  {
   "cell_type": "code",
   "execution_count": 15,
   "id": "8e6cd242-6fc1-4ed9-89fd-d5b3632e69ca",
   "metadata": {},
   "outputs": [
    {
     "name": "stdout",
     "output_type": "stream",
     "text": [
      "observed values :-\n",
      " [[60 97]\n",
      " [33 54]]\n"
     ]
    }
   ],
   "source": [
    "## Observed values \n",
    "Observed_Values = dataset_table.values\n",
    "print(\"observed values :-\\n\", observed_values)"
   ]
  },
  {
   "cell_type": "code",
   "execution_count": 16,
   "id": "4621c74e-9ee2-4b56-a036-f09495624a10",
   "metadata": {},
   "outputs": [
    {
     "data": {
      "text/plain": [
       "Chi2ContingencyResult(statistic=0.0, pvalue=1.0, dof=1, expected_freq=array([[59.84016393, 97.15983607],\n",
       "       [33.15983607, 53.84016393]]))"
      ]
     },
     "execution_count": 16,
     "metadata": {},
     "output_type": "execute_result"
    }
   ],
   "source": [
    "val =stats.chi2_contingency(dataset_table)\n",
    "val"
   ]
  },
  {
   "cell_type": "code",
   "execution_count": 17,
   "id": "ed099fdc-eea3-4e8f-9bb2-8ac0e44cbdd7",
   "metadata": {},
   "outputs": [],
   "source": [
    "Expected_Values=val[3]"
   ]
  },
  {
   "cell_type": "code",
   "execution_count": 18,
   "id": "3ec72198-704f-4219-a164-338b333cd1fd",
   "metadata": {},
   "outputs": [
    {
     "name": "stdout",
     "output_type": "stream",
     "text": [
      "Degree of freedom:- 1\n"
     ]
    }
   ],
   "source": [
    "no_of_rows = len(dataset_table.iloc[0:2,0])\n",
    "no_of_columns = len(dataset_table.iloc[0,0:2])\n",
    "dof = (no_of_rows-1)*(no_of_columns-1)\n",
    "print(\"Degree of freedom:-\",dof)\n",
    "alpha=0.05"
   ]
  },
  {
   "cell_type": "markdown",
   "id": "0517056c-2a3b-43ee-90fc-68f2db3927d0",
   "metadata": {},
   "source": [
    "##"
   ]
  },
  {
   "cell_type": "markdown",
   "id": "37264d9f-5241-4c27-8b74-ef3585d4cfc8",
   "metadata": {},
   "source": [
    "##                        X^2 = sum(o-e)^2/e"
   ]
  },
  {
   "cell_type": "code",
   "execution_count": 20,
   "id": "f4fb872c-93ef-4c5f-beb2-1686c770012f",
   "metadata": {},
   "outputs": [],
   "source": [
    "from scipy.stats import chi2\n",
    "chi_square = sum([(o-e)**2/e for o,e in zip(Observed_Values,Expected_Values)])\n",
    "chi_square_statistic = chi_square[0] + chi_square[1]"
   ]
  },
  {
   "cell_type": "code",
   "execution_count": 22,
   "id": "b32624e6-417f-4345-85ad-8ac3393c2354",
   "metadata": {},
   "outputs": [
    {
     "name": "stdout",
     "output_type": "stream",
     "text": [
      "chi_sqaure statistic :- 0.001934818536627623\n"
     ]
    }
   ],
   "source": [
    "print(\"chi_sqaure statistic :-\",chi_square_statistic)"
   ]
  },
  {
   "cell_type": "code",
   "execution_count": 23,
   "id": "f399e954-1967-4f1a-b7dd-160d4aa3bb00",
   "metadata": {},
   "outputs": [
    {
     "name": "stdout",
     "output_type": "stream",
     "text": [
      "critical_value :- 3.841458820694124\n"
     ]
    }
   ],
   "source": [
    "critical_value = chi2.ppf(q=1-alpha,df = dof)\n",
    "print(\"critical_value :-\",critical_value)"
   ]
  },
  {
   "cell_type": "code",
   "execution_count": 25,
   "id": "d0145f51-84d0-471b-ad10-ab8c2af7920f",
   "metadata": {},
   "outputs": [
    {
     "name": "stdout",
     "output_type": "stream",
     "text": [
      "p-value : 0.964915107315732\n",
      "significant level : 0.05\n",
      "Degree of freedom : 1\n",
      "p-value : 0.964915107315732\n"
     ]
    }
   ],
   "source": [
    "## P-value\n",
    "p_value = 1-chi2.cdf(x=chi_square_statistic,df=dof)\n",
    "print(\"p-value :\",p_value)\n",
    "print(\"significant level :\", alpha)\n",
    "print(\"Degree of freedom :\",dof)\n",
    "print(\"p-value :\",p_value)"
   ]
  },
  {
   "cell_type": "code",
   "execution_count": 26,
   "id": "b0d15dbd-ac4f-45e2-ab90-a191f984bdd1",
   "metadata": {},
   "outputs": [
    {
     "name": "stdout",
     "output_type": "stream",
     "text": [
      "Retain H0, there is no relationship between 2 categorial variables\n",
      "Retain H0, there is no relationship between 2 categorial variables\n"
     ]
    }
   ],
   "source": [
    "if chi_square_statistic>=critical_value:\n",
    "    print(\"Reject H0, there is a reletionship between 2 categorial variables\")\n",
    "else:\n",
    "    print(\"Retain H0, there is no relationship between 2 categorial variables\")\n",
    "\n",
    "if p_value<=alpha:\n",
    "    print(\"Reject H0, there is a reletionship between 2 categorial variables\")\n",
    "else:\n",
    "    print(\"Retain H0, there is no relationship between 2 categorial variables\")"
   ]
  },
  {
   "cell_type": "code",
   "execution_count": null,
   "id": "193243c7-9956-4ccc-8f38-f375c0d88a1e",
   "metadata": {},
   "outputs": [],
   "source": []
  }
 ],
 "metadata": {
  "kernelspec": {
   "display_name": "Python 3 (ipykernel)",
   "language": "python",
   "name": "python3"
  },
  "language_info": {
   "codemirror_mode": {
    "name": "ipython",
    "version": 3
   },
   "file_extension": ".py",
   "mimetype": "text/x-python",
   "name": "python",
   "nbconvert_exporter": "python",
   "pygments_lexer": "ipython3",
   "version": "3.12.4"
  }
 },
 "nbformat": 4,
 "nbformat_minor": 5
}
